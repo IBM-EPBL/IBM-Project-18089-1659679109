{
 "cells": [
  {
   "cell_type": "markdown",
   "id": "123888b1",
   "metadata": {},
   "source": [
    "<h2>Speech Recording</h2>"
   ]
  },
  {
   "cell_type": "markdown",
   "id": "74017a83",
   "metadata": {},
   "source": [
    "<h3>Code</h3>"
   ]
  },
  {
   "cell_type": "code",
   "execution_count": 17,
   "id": "51e47098",
   "metadata": {},
   "outputs": [
    {
     "name": "stdout",
     "output_type": "stream",
     "text": [
      "Recorded Speech  - real time communication\n",
      "Recorded Speech  - working on ibm project\n",
      "Recorded Speech  - my voice is being recorded\n"
     ]
    }
   ],
   "source": [
    "import speech_recognition as sr\n",
    "import pyttsx3\n",
    "import cv2\n",
    "import time\n",
    "\n",
    "# Initializing the recognizer\n",
    "r = sr.Recognizer()\n",
    "\n",
    "# Function to convert text to speech\n",
    "def SpeakText(command):\n",
    "# Initialize the engine\n",
    "    engine = pyttsx3.init()\n",
    "    engine.say(command)\n",
    "    engine.runAndWait()\n",
    "\n",
    "# Loop infinitely for user to speak\n",
    "\n",
    "\n",
    "timeout = time.time() + 35   # 35 seconds from now\n",
    "\n",
    "    \n",
    "while(1):\n",
    "    try:\n",
    "        with sr.Microphone() as source2:\n",
    "            r.adjust_for_ambient_noise(source2, duration=0.2)\n",
    "            audio2 = r.listen(source2)\n",
    "            MyText = r.recognize_google(audio2)\n",
    "            MyText = MyText.lower()\n",
    "            print(\"Recorded Speech \",\"-\",MyText)\n",
    "            SpeakText(MyText)\n",
    "            test = 0\n",
    "            if test == 5 or time.time() > timeout:\n",
    "                break\n",
    "            test = test - 1\n",
    "    except sr.RequestError as e:\n",
    "        print(\"Could not request results; {0}\".format(e))\n",
    "    except sr.UnknownValueError:\n",
    "        print(\"Unknown error occurred\")\n",
    "        \n",
    "\n"
   ]
  },
  {
   "cell_type": "code",
   "execution_count": null,
   "id": "373abdc3",
   "metadata": {},
   "outputs": [],
   "source": []
  }
 ],
 "metadata": {
  "kernelspec": {
   "display_name": "Python 3 (ipykernel)",
   "language": "python",
   "name": "python3"
  },
  "language_info": {
   "codemirror_mode": {
    "name": "ipython",
    "version": 3
   },
   "file_extension": ".py",
   "mimetype": "text/x-python",
   "name": "python",
   "nbconvert_exporter": "python",
   "pygments_lexer": "ipython3",
   "version": "3.9.7"
  }
 },
 "nbformat": 4,
 "nbformat_minor": 5
}
