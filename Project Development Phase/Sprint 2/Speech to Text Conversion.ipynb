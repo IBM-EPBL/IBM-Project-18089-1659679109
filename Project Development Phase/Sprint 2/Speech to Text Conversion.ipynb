{
 "cells": [
  {
   "cell_type": "markdown",
   "id": "caf1cd4c",
   "metadata": {},
   "source": [
    "<h2>Speech to text conversion</h2>"
   ]
  },
  {
   "cell_type": "code",
   "execution_count": 7,
   "id": "0f674321",
   "metadata": {},
   "outputs": [
    {
     "name": "stdout",
     "output_type": "stream",
     "text": [
      "Converting audio transcripts into text ...\n",
      "knowing Bros of Saudi assisted in line the beach is dry in Shallow at low tide the idea is to say about it straight change the dog and the street Tejus bound in class make a bird to trace the fine lines of the paining women's One Less than half of the group result merit in the central part of town in the grass network topology is used when secrets are set\n"
     ]
    }
   ],
   "source": [
    "import speech_recognition as sr\n",
    "#Initiаlize  reсоgnizer  сlаss  (fоr  reсоgnizing  the  sрeeсh)\n",
    "r = sr.Recognizer()\n",
    "# Reading Audio file as source\n",
    "#  listening  the  аudiо  file  аnd  stоre  in  аudiо_text  vаriаble\n",
    "with sr.AudioFile('test.wav') as source:\n",
    "    audio_text = r.listen(source)\n",
    "# recoginize_() method will throw a request error if the API is unreachable, hence using exception handling\n",
    "    try:\n",
    "        # using google speech recognition\n",
    "        text = r.recognize_google(audio_text)\n",
    "        print('Converting audio transcripts into text ...')\n",
    "        print(text)\n",
    "    except:\n",
    "         print('Sorry.. run again...')"
   ]
  }
 ],
 "metadata": {
  "kernelspec": {
   "display_name": "Python 3 (ipykernel)",
   "language": "python",
   "name": "python3"
  },
  "language_info": {
   "codemirror_mode": {
    "name": "ipython",
    "version": 3
   },
   "file_extension": ".py",
   "mimetype": "text/x-python",
   "name": "python",
   "nbconvert_exporter": "python",
   "pygments_lexer": "ipython3",
   "version": "3.9.7"
  }
 },
 "nbformat": 4,
 "nbformat_minor": 5
}
